{
 "cells": [
  {
   "cell_type": "code",
   "execution_count": 45,
   "metadata": {},
   "outputs": [],
   "source": [
    "import numpy as np\n",
    "import pandas as pd\n"
   ]
  },
  {
   "cell_type": "code",
   "execution_count": 46,
   "metadata": {},
   "outputs": [
    {
     "data": {
      "text/html": [
       "<div>\n",
       "<style scoped>\n",
       "    .dataframe tbody tr th:only-of-type {\n",
       "        vertical-align: middle;\n",
       "    }\n",
       "\n",
       "    .dataframe tbody tr th {\n",
       "        vertical-align: top;\n",
       "    }\n",
       "\n",
       "    .dataframe thead th {\n",
       "        text-align: right;\n",
       "    }\n",
       "</style>\n",
       "<table border=\"1\" class=\"dataframe\">\n",
       "  <thead>\n",
       "    <tr style=\"text-align: right;\">\n",
       "      <th></th>\n",
       "      <th>obs_id</th>\n",
       "      <th>SiteId</th>\n",
       "      <th>Timestamp</th>\n",
       "      <th>ForecastId</th>\n",
       "      <th>Value</th>\n",
       "    </tr>\n",
       "  </thead>\n",
       "  <tbody>\n",
       "    <tr>\n",
       "      <th>0</th>\n",
       "      <td>4852050</td>\n",
       "      <td>42</td>\n",
       "      <td>2016-10-18T02:45:00+00:00</td>\n",
       "      <td>1087</td>\n",
       "      <td>26397.049623</td>\n",
       "    </tr>\n",
       "    <tr>\n",
       "      <th>1</th>\n",
       "      <td>1638923</td>\n",
       "      <td>42</td>\n",
       "      <td>2016-10-18T11:45:00+00:00</td>\n",
       "      <td>1087</td>\n",
       "      <td>42958.364641</td>\n",
       "    </tr>\n",
       "    <tr>\n",
       "      <th>2</th>\n",
       "      <td>5748910</td>\n",
       "      <td>42</td>\n",
       "      <td>2016-10-18T20:45:00+00:00</td>\n",
       "      <td>1087</td>\n",
       "      <td>27096.919666</td>\n",
       "    </tr>\n",
       "    <tr>\n",
       "      <th>3</th>\n",
       "      <td>38199</td>\n",
       "      <td>42</td>\n",
       "      <td>2016-10-20T10:45:00+00:00</td>\n",
       "      <td>1087</td>\n",
       "      <td>50211.408087</td>\n",
       "    </tr>\n",
       "    <tr>\n",
       "      <th>4</th>\n",
       "      <td>1338204</td>\n",
       "      <td>42</td>\n",
       "      <td>2016-10-20T18:45:00+00:00</td>\n",
       "      <td>1087</td>\n",
       "      <td>50503.305105</td>\n",
       "    </tr>\n",
       "  </tbody>\n",
       "</table>\n",
       "</div>"
      ],
      "text/plain": [
       "    obs_id  SiteId                  Timestamp  ForecastId         Value\n",
       "0  4852050      42  2016-10-18T02:45:00+00:00        1087  26397.049623\n",
       "1  1638923      42  2016-10-18T11:45:00+00:00        1087  42958.364641\n",
       "2  5748910      42  2016-10-18T20:45:00+00:00        1087  27096.919666\n",
       "3    38199      42  2016-10-20T10:45:00+00:00        1087  50211.408087\n",
       "4  1338204      42  2016-10-20T18:45:00+00:00        1087  50503.305105"
      ]
     },
     "execution_count": 46,
     "metadata": {},
     "output_type": "execute_result"
    }
   ],
   "source": [
    "df = pd.read_csv('dataset\\power-laws-forecasting-energy-consumption-training-data.csv')\n",
    "df.head()"
   ]
  },
  {
   "cell_type": "code",
   "execution_count": 47,
   "metadata": {},
   "outputs": [
    {
     "data": {
      "text/plain": [
       "False"
      ]
     },
     "execution_count": 47,
     "metadata": {},
     "output_type": "execute_result"
    }
   ],
   "source": [
    "df_ts = df['Value']\n",
    "df_ts = df_ts.fillna(df_ts.mean())\n",
    "df_ts.isna().any()"
   ]
  },
  {
   "cell_type": "code",
   "execution_count": 48,
   "metadata": {},
   "outputs": [],
   "source": [
    "df_ts = (df_ts-df_ts.mean())/df_ts.std()"
   ]
  },
  {
   "cell_type": "code",
   "execution_count": 49,
   "metadata": {},
   "outputs": [],
   "source": [
    "def sigmoid(x):\n",
    "    t = 1 + np.exp(-x)\n",
    "    return (1/t)"
   ]
  },
  {
   "cell_type": "code",
   "execution_count": 59,
   "metadata": {},
   "outputs": [
    {
     "data": {
      "text/plain": [
       "0    -0.001003\n",
       "1    -0.000952\n",
       "2    -0.001000\n",
       "3    -0.000930\n",
       "4    -0.000929\n",
       "        ...   \n",
       "94   -0.001025\n",
       "95   -0.000924\n",
       "96   -0.001009\n",
       "97   -0.000925\n",
       "98   -0.000917\n",
       "Name: Value, Length: 99, dtype: float64"
      ]
     },
     "execution_count": 59,
     "metadata": {},
     "output_type": "execute_result"
    }
   ],
   "source": [
    "df_ts[:99]"
   ]
  },
  {
   "cell_type": "code",
   "execution_count": 91,
   "metadata": {},
   "outputs": [],
   "source": [
    "class LSTM():\n",
    "    def __init__(self) -> None:\n",
    "        # gates and states\n",
    "        self.c = 0\n",
    "        self.h = 0\n",
    "        self.f = 0\n",
    "        self.o = 0\n",
    "        self.f = 0\n",
    "        self.c_= 0\n",
    "        self.prev_h = 0\n",
    "        self.prev_c = 0\n",
    "        #gradient array\n",
    "        self.grad = []\n",
    "\n",
    "        #weights\n",
    "        #input gate\n",
    "        self.wix = np.random.rand()\n",
    "        self.wih = np.random.rand()\n",
    "        self.bi = np.random.rand()\n",
    "        self.wcx = np.random.rand()\n",
    "        self.wch = np.random.rand()\n",
    "        self.bc = np.random.rand()\n",
    "\n",
    "        #forget gate \n",
    "        self.wfx = np.random.rand()\n",
    "        self.wfh = np.random.rand()\n",
    "        self.bf = np.random.rand()\n",
    "\n",
    "        #output gate\n",
    "        self.wox = np.random.rand()\n",
    "        self.woh = np.random.rand()\n",
    "        self.bo = np.random.rand()\n",
    "\n",
    "    def forget_gate(self,x):\n",
    "        f = self.wfx*x + self.wfh*self.h + self.bf\n",
    "        return sigmoid(f)\n",
    "\n",
    "    def input_gate(self,x):\n",
    "        i = self.wix*x + self.wih*self.h + self.bi\n",
    "        i = sigmoid(i)\n",
    "        c_ = self.wcx*x + self.wch*self.h + self.bc\n",
    "        c_ = np.tanh(c_)\n",
    "        return i,c_\n",
    "\n",
    "    def output_gate(self, x):\n",
    "        o = self.wox*x + self.woh*self.h + self.bo\n",
    "        return sigmoid(o)   \n",
    "    \n",
    "    def forward_pass(self,x):\n",
    "        self.f = self.forget_gate(x) # % of long term mem to remember\n",
    "        self.i,self.c_ = self.input_gate(x) # % and amount to input into long term mem\n",
    "        self.prev_c = self.c\n",
    "        self.c = self.f*self.c + self.i*self.c_  #forget and new input \n",
    "        self.o = self.output_gate(x)\n",
    "        self.prev_h = self.h\n",
    "        self.h = self.o*np.tanh(self.c) #update short term mem\n",
    "        return self.h #output of LSTM for xt\n",
    "\n",
    "    def get_gradients(self,y_pred,y,x):\n",
    "        grad_dict = {}\n",
    "\n",
    "        do = -(y-y_pred)*np.tanh(self.c)\n",
    "        grad_dict['wox'] = do*self.o*(1-self.o)*x\n",
    "        grad_dict['woh'] = do*self.o*(1-self.o)*self.prev_h\n",
    "        grad_dict['bo'] = do*self.o*(1-self.o)\n",
    "\n",
    "        di = -(y-y_pred)*self.o*(1-(np.tanh(self.c))**2)*self.c_\n",
    "        grad_dict['wih'] = di*self.i*(1-self.i)*self.prev_h\n",
    "        grad_dict['wix'] = di*self.i*(1-self.i)*x\n",
    "        grad_dict['bi'] = di*self.i*(1-self.i)\n",
    "\n",
    "        del_f = -(y-y_pred)*self.o*(1-(np.tanh(self.c))**2)*self.prev_c\n",
    "        grad_dict['wfh'] = del_f*self.f*(1-self.f)*self.prev_h\n",
    "        grad_dict['wfx'] = del_f*self.f*(1-self.f)*x\n",
    "        grad_dict['bf'] = del_f*self.f*(1-self.f)\n",
    "\n",
    "        dc_ = -(y-y_pred)*self.o*(1-(np.tanh(self.c))**2)*self.i\n",
    "        grad_dict['wch'] = dc_*(1-self.c_**2)*self.prev_h\n",
    "        grad_dict['wcx'] = dc_*(1-self.c_**2)*x\n",
    "        grad_dict['bc'] = dc_*(1-self.c_**2)\n",
    "\n",
    "        self.grad.append(grad_dict)\n",
    "        return grad_dict\n",
    "    def bptt(self,learning_rate):\n",
    "\n",
    "        der = 0\n",
    "        for d in self.grad:\n",
    "            der += d['wih']\n",
    "        self.wih = self.wih - learning_rate*der\n",
    "        \n",
    "        der = 0\n",
    "        for d in self.grad:\n",
    "            der += d['wix']\n",
    "        self.wix = self.wix - learning_rate*der\n",
    "\n",
    "        der = 0\n",
    "        for d in self.grad:\n",
    "            der += d['bi']\n",
    "        self.bi = self.bi - learning_rate*der\n",
    "\n",
    "        der = 0\n",
    "        for d in self.grad:\n",
    "            der += d['wfx']\n",
    "        self.wfx = self.wfx - learning_rate*der\n",
    "\n",
    "        der = 0\n",
    "        for d in self.grad:\n",
    "            der += d['wfh']\n",
    "        self.wfh = self.wfh - learning_rate*der\n",
    "\n",
    "        der = 0\n",
    "        for d in self.grad:\n",
    "            der += d['bf']\n",
    "        self.bf = self.bf - learning_rate*der\n",
    "\n",
    "        der = 0\n",
    "        for d in self.grad:\n",
    "            der += d['woh']\n",
    "        self.woh = self.woh - learning_rate*der\n",
    "\n",
    "        der = 0\n",
    "        for d in self.grad:\n",
    "            der += d['wox']\n",
    "        self.wox = self.wox - learning_rate*der\n",
    "\n",
    "        der = 0\n",
    "        for d in self.grad:\n",
    "            der += d['bo']\n",
    "        self.bo = self.bo - learning_rate*der\n",
    "\n",
    "        der = 0\n",
    "        for d in self.grad:\n",
    "            der += d['wch']\n",
    "        self.wch = self.wch - learning_rate*der\n",
    "\n",
    "        der = 0\n",
    "        for d in self.grad:\n",
    "            der += d['wcx']\n",
    "        self.wcx = self.wcx - learning_rate*der\n",
    "\n",
    "        der = 0\n",
    "        for d in self.grad:\n",
    "            der += d['bc']\n",
    "        self.bc = self.bc - learning_rate*der\n",
    "\n",
    "        #print(self.wih,self.wix,self.wfh,self.wfx,self.woh,self.wox,self.wcx,self.wch,self.bi,self.bf,self.bo,self.bc)\n",
    "\n",
    "\n",
    "    def train(self,train_data,epochs,learning_rate = 0.0001):\n",
    "        mse = []\n",
    "        for i in range(epochs):\n",
    "            for i in range(0,len(train_data)-1):\n",
    "                y_pred = self.forward_pass(train_data[i])\n",
    "                self.get_gradients(y_pred,train_data[i+1],train_data[i])\n",
    "\n",
    "            # print(y_hat)               \n",
    "            self.bptt(learning_rate)\n",
    "            y_pred = self.forward_pass(train_data[len(train_data)-2])\n",
    "            mse.append((y_pred-train_data[len(train_data)-1])**2)\n",
    "        \n",
    "        print(mse)\n",
    "        return mse\n",
    "        \n",
    "    \n"
   ]
  },
  {
   "cell_type": "code",
   "execution_count": 92,
   "metadata": {},
   "outputs": [
    {
     "name": "stdout",
     "output_type": "stream",
     "text": [
      "[0.6328700681837843, 0.6219925883127035, 0.604833642286501, 0.5809982152978055, 0.5500793624000793, 0.5118185382127529, 0.4663402500602799, 0.41443237245335285, 0.3577747370881966, 0.2989557951821407, 0.2411474348778359, 0.1874861207780852, 0.1404228117841398, 0.10133545398577913, 0.07050484244630383, 0.04734644893414302, 0.030736677945744365, 0.019326924116567796, 0.011792585135116248, 0.006991143294793458, 0.004028003223324084, 0.002252978379257825, 0.0012199810423945128, 0.0006364531858188492, 0.00031740292777315783, 0.00014945572027657097, 6.510435696734883e-05, 2.52958973895676e-05, 8.132075507483444e-06, 1.77112726694438e-06, 9.31504275167258e-08, 1.2395085303825057e-07, 5.469203346027434e-07, 8.706210886038616e-07, 9.80978259419506e-07, 9.123902789866621e-07, 7.390798012155728e-07, 5.29549652082353e-07, 3.3212465513694917e-07, 1.7434672462226156e-07, 6.743724326228617e-08, 1.1694194497747684e-08, 1.1385319467790127e-09, 2.6929271997947053e-08, 7.960052521111556e-08, 1.5036383210110742e-07, 2.3174721277672928e-07, 3.178042434426276e-07, 4.0406980671788676e-07, 4.873851831129843e-07, 5.656715437003638e-07, 6.376988837138015e-07, 7.028755282626629e-07, 7.610692728585641e-07, 8.124627853667962e-07, 8.574412716752507e-07, 8.965082242578651e-07, 9.302243624765118e-07, 9.591649861341257e-07, 9.838914842188465e-07, 1.004933417267647e-06, 1.022778281596316e-06, 1.0378666935591229e-06, 1.0505912710627911e-06, 1.0612979310625965e-06, 1.0702886717823874e-06, 1.0778251787644266e-06, 1.0841327981269127e-06, 1.0894045716855568e-06, 1.0938051384887459e-06, 1.0974743855771782e-06, 1.1005307853083453e-06, 1.1030743936096857e-06, 1.1051895078433644e-06, 1.106946998217646e-06, 1.1084063355770567e-06, 1.109617342939498e-06, 1.1106216997683438e-06, 1.1114542277040796e-06, 1.112143985060202e-06, 1.1127151953148092e-06, 1.113188032443165e-06, 1.1135792834621665e-06, 1.1139029061376841e-06, 1.1141704975257988e-06, 1.1143916869255506e-06, 1.1145744649344497e-06, 1.1147254586220526e-06, 1.1148501613642609e-06, 1.1149531245982563e-06, 1.1150381176485803e-06, 1.1151082608208914e-06, 1.1151661361436974e-06, 1.1152138794426859e-06, 1.1152532568415514e-06, 1.1152857282829906e-06, 1.115312500241114e-06, 1.1153345694405713e-06, 1.1153527590983255e-06, 1.115367748952719e-06, 1.1153801001338369e-06, 1.1153902757528333e-06, 1.1153986579405147e-06, 1.1154055619423636e-06, 1.1154112477745197e-06, 1.1154159298596379e-06, 1.115419784990307e-06, 1.1154229589083857e-06, 1.1154255717393372e-06, 1.1154277224796567e-06, 1.1154294927014737e-06, 1.1154309496101882e-06, 1.1154321485675516e-06, 1.1154331351732275e-06, 1.1154339469817383e-06, 1.1154346149184056e-06, 1.1154351644468408e-06, 1.115435616531417e-06, 1.1154359884305969e-06, 1.1154362943507387e-06, 1.115436545984841e-06, 1.1154367529564108e-06, 1.1154369231851188e-06, 1.115437063187982e-06, 1.1154371783274127e-06, 1.1154372730154858e-06, 1.1154373508821316e-06, 1.115437414913613e-06, 1.115437467566524e-06, 1.1154375108616295e-06, 1.1154375464611035e-06, 1.1154375757320973e-06, 1.1154375997990535e-06, 1.1154376195867553e-06, 1.1154376358557493e-06, 1.115437649231488e-06, 1.1154376602283103e-06, 1.1154376692691647e-06, 1.115437676701841e-06, 1.1154376828123138e-06, 1.1154376878357257e-06, 1.1154376919654172e-06, 1.1154376953603539e-06, 1.115437698151235e-06, 1.1154377004455185e-06, 1.115437702331551e-06, 1.1154377038819667e-06, 1.1154377051564786e-06, 1.115437706204179e-06, 1.115437707065427e-06, 1.1154377077734e-06, 1.1154377083553739e-06, 1.1154377088337713e-06, 1.1154377092270248e-06, 1.1154377095502875e-06, 1.1154377098160153e-06, 1.1154377100344483e-06, 1.1154377102140034e-06, 1.1154377103616006e-06, 1.1154377104829275e-06, 1.1154377105826595e-06, 1.1154377106646409e-06, 1.1154377107320306e-06, 1.115437710787426e-06, 1.1154377108329618e-06, 1.1154377108703928e-06, 1.1154377109011619e-06, 1.1154377109264543e-06, 1.1154377109472451e-06, 1.1154377109643355e-06, 1.1154377109783842e-06, 1.1154377109899324e-06, 1.1154377109994255e-06, 1.115437711007229e-06, 1.1154377110136436e-06, 1.1154377110189166e-06, 1.1154377110232513e-06, 1.1154377110268144e-06, 1.1154377110297434e-06, 1.1154377110321513e-06, 1.1154377110341304e-06, 1.1154377110357573e-06, 1.1154377110370948e-06, 1.1154377110381945e-06, 1.1154377110390982e-06, 1.115437711039841e-06, 1.1154377110404518e-06, 1.1154377110409537e-06, 1.1154377110413664e-06, 1.1154377110417058e-06, 1.1154377110419847e-06, 1.1154377110422143e-06, 1.1154377110424025e-06, 1.1154377110425573e-06, 1.1154377110426846e-06, 1.1154377110427894e-06, 1.1154377110428756e-06, 1.115437711042946e-06, 1.1154377110430043e-06, 1.1154377110430524e-06]\n"
     ]
    }
   ],
   "source": [
    "model = LSTM()\n",
    "mse = model.train(df_ts[:1000],200)"
   ]
  },
  {
   "cell_type": "code",
   "execution_count": 93,
   "metadata": {},
   "outputs": [
    {
     "data": {
      "image/png": "[encoded data removed]",
      "text/plain": [
       "<Figure size 640x480 with 1 Axes>"
      ]
     },
     "metadata": {},
     "output_type": "display_data"
    }
   ],
   "source": [
    "import matplotlib.pyplot as plt\n",
    "array_list = [element for element in range(0,len(mse))]\n",
    "plt.plot(array_list,mse)\n",
    "plt.show()"
   ]
  }
 ],
 "metadata": {
  "kernelspec": {
   "display_name": "Python 3",
   "language": "python",
   "name": "python3"
  },
  "language_info": {
   "codemirror_mode": {
    "name": "ipython",
    "version": 3
   },
   "file_extension": ".py",
   "mimetype": "text/x-python",
   "name": "python",
   "nbconvert_exporter": "python",
   "pygments_lexer": "ipython3",
   "version": "3.11.3"
  }
 },
 "nbformat": 4,
 "nbformat_minor": 2
}
